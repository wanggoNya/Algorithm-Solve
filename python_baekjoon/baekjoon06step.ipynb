{
 "cells": [
  {
   "cell_type": "code",
   "execution_count": 5,
   "metadata": {},
   "outputs": [
    {
     "name": "stdout",
     "output_type": "stream",
     "text": [
      "67\n"
     ]
    }
   ],
   "source": [
    "# 11654\n",
    "n = input()\n",
    "print(ord(n))"
   ]
  },
  {
   "cell_type": "code",
   "execution_count": 3,
   "metadata": {},
   "outputs": [
    {
     "name": "stdout",
     "output_type": "stream",
     "text": [
      "7\n"
     ]
    }
   ],
   "source": [
    "# 11720\n",
    "n = int(input())\n",
    "num  = input()\n",
    "sum = 0\n",
    "for i in range(0, n):\n",
    "    sum += int(num[i])\n",
    "print(sum)"
   ]
  },
  {
   "cell_type": "code",
   "execution_count": 10,
   "metadata": {},
   "outputs": [],
   "source": [
    "# 10809\n",
    "#  97~ 122\n",
    "s = input()\n",
    "for j in s[0:]:\n",
    "    num = 0\n",
    "    for i in range(97, 123):\n",
    "        if(chr(i) == j):\n",
    "            print(j, end=\" \")"
   ]
  },
  {
   "cell_type": "code",
   "execution_count": null,
   "metadata": {},
   "outputs": [],
   "source": [
    "# 10809\n",
    "s = input()\n",
    "\n",
    "for i in range(97, 123):\n",
    "    for j in s:\n",
    "        if(chr(i) == j):\n",
    "            temp = j\n",
    "        "
   ]
  },
  {
   "cell_type": "code",
   "execution_count": null,
   "metadata": {},
   "outputs": [],
   "source": [
    "# 10809\n",
    "S = input()\n",
    "check = [-1]*26\n",
    " \n",
    "for i in range(len(S)):\n",
    "    if check[ord(S[i])-97] != -1:\n",
    "        continue\n",
    "    else:\n",
    "        check[ord(S[i])-97] = i\n",
    "        \n",
    "for i in range(26):\n",
    "    print(check[i], end=' ')\n",
    "# https://j-remind.tistory.com/62"
   ]
  },
  {
   "cell_type": "code",
   "execution_count": null,
   "metadata": {},
   "outputs": [],
   "source": [
    "# 10809\n",
    "S = input()\n",
    "abc ='abcdefghijklmnopqrstuvwxyz'\n",
    "\n",
    "for i in abc:\n",
    "    if i in S:\n",
    "        print(S.index(i), end= ' ')\n",
    "    else:\n",
    "        print( -1, end =' ')\n",
    "# https://gururuglasses.tistory.com/88"
   ]
  },
  {
   "cell_type": "code",
   "execution_count": 17,
   "metadata": {},
   "outputs": [
    {
     "name": "stdout",
     "output_type": "stream",
     "text": [
      "AAABBBCCC\n",
      "/////HHHHHTTTTTPPPPP\n"
     ]
    }
   ],
   "source": [
    "# 2675\n",
    "s = int(input())\n",
    "while (s > 0):\n",
    "    s -= 1\n",
    "    r = input()\n",
    "    r = r.split()\n",
    "    for i in r[1][0:]:\n",
    "        for j in range(0, int(r[0])):\n",
    "            print(i, end=\"\")\n",
    "    print()"
   ]
  },
  {
   "cell_type": "code",
   "execution_count": 18,
   "metadata": {},
   "outputs": [
    {
     "name": "stdout",
     "output_type": "stream",
     "text": [
      "6\n"
     ]
    }
   ],
   "source": [
    "# 1157\n"
   ]
  },
  {
   "cell_type": "code",
   "execution_count": null,
   "metadata": {},
   "outputs": [],
   "source": [
    "# 1152\n",
    "s = input()\n",
    "s = s.split()\n",
    "print(len(s))"
   ]
  },
  {
   "cell_type": "code",
   "execution_count": 32,
   "metadata": {},
   "outputs": [
    {
     "name": "stdout",
     "output_type": "stream",
     "text": [
      "73444\n"
     ]
    }
   ],
   "source": [
    "# 2908\n",
    "# 48~ 57\n",
    "n = list(map(int, input().split()))\n",
    "for i in str(n[0])[-1:]:\n",
    "    n1 += i\n",
    "print(n1)"
   ]
  },
  {
   "cell_type": "code",
   "execution_count": 26,
   "metadata": {},
   "outputs": [
    {
     "name": "stdout",
     "output_type": "stream",
     "text": [
      "3\n"
     ]
    }
   ],
   "source": [
    "n = 123\n",
    "print(len(str(n)))"
   ]
  }
 ],
 "metadata": {
  "interpreter": {
   "hash": "c70382d6e6eb62a6ed0310338bc5b0fda788da35d140e0e4ee7db99f072cd977"
  },
  "kernelspec": {
   "display_name": "Python 3.9.7 ('base')",
   "language": "python",
   "name": "python3"
  },
  "language_info": {
   "codemirror_mode": {
    "name": "ipython",
    "version": 3
   },
   "file_extension": ".py",
   "mimetype": "text/x-python",
   "name": "python",
   "nbconvert_exporter": "python",
   "pygments_lexer": "ipython3",
   "version": "3.9.7"
  },
  "orig_nbformat": 4
 },
 "nbformat": 4,
 "nbformat_minor": 2
}
