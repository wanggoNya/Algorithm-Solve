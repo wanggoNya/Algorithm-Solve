{
 "cells": [
  {
   "cell_type": "code",
   "execution_count": 3,
   "metadata": {},
   "outputs": [
    {
     "data": {
      "text/plain": [
       "10"
      ]
     },
     "execution_count": 3,
     "metadata": {},
     "output_type": "execute_result"
    }
   ],
   "source": [
    "# 15596\n",
    "# a: 합을 구해야 하는 정수 n개가 저장되어 있는 리스트 (0 ≤ a[i] ≤ 1,000,000, 1 ≤ n ≤ 3,000,000)\n",
    "# 리턴값: a에 포함되어 있는 정수 n개의 합 (정수)\n",
    "\n",
    "def solve(a):\n",
    "    ans = sum(a)\n",
    "    return ans"
   ]
  },
  {
   "cell_type": "code",
   "execution_count": null,
   "metadata": {},
   "outputs": [],
   "source": [
    "# 4673\n",
    "natural = set(range(1, 10001)) # set안에 1부터 10000까지 숫자 생성\n",
    "generated = set() # 빈 set 설정\n",
    "\n",
    "for i in range(1, 10001): # 1부터 10000까지 for문 생성\n",
    "    for j in str(i): # 셀프넘버를 위한 인덱싱\n",
    "        i += int(j) # 셀프넘버 생성\n",
    "    generated.add(i) # generated set에 셀프넘버 집어 넣기\n",
    "self_num = sorted(natural - generated) # 1~10000 set에서 generated 삭제하고 정렬\n",
    "for i in self_num:\n",
    "    print(i)"
   ]
  },
  {
   "cell_type": "code",
   "execution_count": 19,
   "metadata": {},
   "outputs": [
    {
     "name": "stdout",
     "output_type": "stream",
     "text": [
      "119\n"
     ]
    }
   ],
   "source": [
    "# 1065\n",
    "n = int(input())\n",
    "mi = set()\n",
    "num = 0\n",
    "if(n < 100):\n",
    "    for i in range(1, n+1):\n",
    "        num += 1\n",
    "else:\n",
    "    num = 99\n",
    "    for i in range(100, n+1):\n",
    "        for j in range(0, len(str(i))-1):\n",
    "            mi.add(int(str(i)[j]) - int(str(i)[j+1]))\n",
    "        if(len(mi) == 1):\n",
    "            num += 1   \n",
    "        mi = set() \n",
    "print(num)      "
   ]
  }
 ],
 "metadata": {
  "interpreter": {
   "hash": "c70382d6e6eb62a6ed0310338bc5b0fda788da35d140e0e4ee7db99f072cd977"
  },
  "kernelspec": {
   "display_name": "Python 3.9.7 ('base')",
   "language": "python",
   "name": "python3"
  },
  "language_info": {
   "codemirror_mode": {
    "name": "ipython",
    "version": 3
   },
   "file_extension": ".py",
   "mimetype": "text/x-python",
   "name": "python",
   "nbconvert_exporter": "python",
   "pygments_lexer": "ipython3",
   "version": "3.9.7"
  },
  "orig_nbformat": 4
 },
 "nbformat": 4,
 "nbformat_minor": 2
}
