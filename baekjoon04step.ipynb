{
 "cells": [
  {
   "cell_type": "code",
   "execution_count": 5,
   "metadata": {},
   "outputs": [
    {
     "name": "stdout",
     "output_type": "stream",
     "text": [
      "7 35\n"
     ]
    }
   ],
   "source": [
    "# 10818\n",
    "n = int(input())\n",
    "arr = list(map(int, input().split()))\n",
    "max = arr[0]\n",
    "min = arr[0]\n",
    "for i in range(0, n):\n",
    "    if(arr[i] > max):\n",
    "        max = arr[i]\n",
    "    if(arr[i] < min):\n",
    "        min = arr[i]\n",
    "print(f'{min} {max}')"
   ]
  },
  {
   "cell_type": "code",
   "execution_count": 6,
   "metadata": {},
   "outputs": [
    {
     "name": "stdout",
     "output_type": "stream",
     "text": [
      "85\n",
      "8\n"
     ]
    }
   ],
   "source": [
    "# 2562\n",
    "n = int(input())\n",
    "max = n\n",
    "temp = 1\n",
    "for i in range(2, 10):\n",
    "    a = int(input())\n",
    "    if(a > max):\n",
    "        max = a\n",
    "        temp = i\n",
    "print(max, end=\"\\n\")\n",
    "print(temp)"
   ]
  },
  {
   "cell_type": "code",
   "execution_count": 17,
   "metadata": {},
   "outputs": [
    {
     "name": "stdout",
     "output_type": "stream",
     "text": [
      "3\n",
      "1\n",
      "0\n",
      "2\n",
      "0\n",
      "0\n",
      "0\n",
      "2\n",
      "0\n",
      "0\n"
     ]
    }
   ],
   "source": [
    "# 2577\n",
    "a = int(input())\n",
    "b = int(input())\n",
    "c = int(input())\n",
    "abc = str(a*b*c)\n",
    "\n",
    "for k in range(0 , 10):\n",
    "    num = 0\n",
    "    for j in abc[0:]:\n",
    "        if (k == int(j)):\n",
    "            num += 1\n",
    "    print(num, end='\\n')"
   ]
  },
  {
   "cell_type": "code",
   "execution_count": 23,
   "metadata": {},
   "outputs": [
    {
     "name": "stdout",
     "output_type": "stream",
     "text": [
      "10\n"
     ]
    }
   ],
   "source": [
    "# 3052\n",
    "arr = []\n",
    "na = []\n",
    "for i in range(1, 11):\n",
    "    arr.append((int(input()))%42)\n",
    "for v in arr:\n",
    "    if v not in na:\n",
    "        na.append(v)\n",
    "print(len(na))"
   ]
  },
  {
   "cell_type": "code",
   "execution_count": 26,
   "metadata": {},
   "outputs": [
    {
     "name": "stdout",
     "output_type": "stream",
     "text": [
      "75.0\n"
     ]
    }
   ],
   "source": [
    "# 1546\n",
    "n = int(input())\n",
    "sc = list(map(int,input().split()))\n",
    "max = sc[0]\n",
    "for i in range(0, n):\n",
    "    if(max < sc[i]):\n",
    "        max = sc[i]\n",
    "sum = 0\n",
    "for i in range(0, n):\n",
    "    sc[i] = sc[i] / max * 100\n",
    "    sum += sc[i]\n",
    "print(float(sum/n))"
   ]
  },
  {
   "cell_type": "code",
   "execution_count": 28,
   "metadata": {},
   "outputs": [
    {
     "name": "stdout",
     "output_type": "stream",
     "text": [
      "10\n",
      "9\n",
      "7\n",
      "55\n",
      "30\n"
     ]
    }
   ],
   "source": [
    "# 8958\n",
    "n = int(input())\n",
    "for i in range(0, n):\n",
    "    a = input()\n",
    "    sc = 0\n",
    "    sum = 0\n",
    "    for i in a[0:]:\n",
    "        if(i == \"O\"):\n",
    "            sc += 1\n",
    "            sum += sc\n",
    "        elif(i == \"X\"):\n",
    "            sc = 0\n",
    "    print(sum)"
   ]
  },
  {
   "cell_type": "code",
   "execution_count": 36,
   "metadata": {},
   "outputs": [
    {
     "name": "stdout",
     "output_type": "stream",
     "text": [
      "40.0%\n",
      "57.143%\n",
      "33.333%\n",
      "66.667%\n",
      "55.556%\n"
     ]
    }
   ],
   "source": [
    "# 4344\n",
    "c = int(input())\n",
    "for i in range(0, c):\n",
    "    nsc = list(map(int, input().split()))\n",
    "    sum = 0\n",
    "    num = 0\n",
    "    n = nsc[0]\n",
    "    for i in nsc[1:n+1]:\n",
    "        sum += i\n",
    "    avg = sum/n\n",
    "    for i in nsc[1:n+1]:\n",
    "        if( i > avg):\n",
    "            num += 1\n",
    "    print(f'{round(num/n*100, 3)}')\n"
   ]
  },
  {
   "cell_type": "code",
   "execution_count": null,
   "metadata": {},
   "outputs": [],
   "source": [
    "# 4344\n",
    "n = int(input())\n",
    "\n",
    "for _ in range(n):\n",
    "    nums = list(map(int, input().split()))\n",
    "    avg = sum(nums[1:])/nums[0]  # 평균을 구함 (nums[0]: 학생수, nums[1:] 점수)\n",
    "    cnt = 0\n",
    "    for score in nums[1:]:\n",
    "        if score > avg:\n",
    "            cnt += 1  # 평균 이상인 학생 수\n",
    "    rate = cnt/nums[0] *100\n",
    "    print(f'{rate:.3f}%')\n"
   ]
  }
 ],
 "metadata": {
  "interpreter": {
   "hash": "c70382d6e6eb62a6ed0310338bc5b0fda788da35d140e0e4ee7db99f072cd977"
  },
  "kernelspec": {
   "display_name": "Python 3.9.7 ('base')",
   "language": "python",
   "name": "python3"
  },
  "language_info": {
   "codemirror_mode": {
    "name": "ipython",
    "version": 3
   },
   "file_extension": ".py",
   "mimetype": "text/x-python",
   "name": "python",
   "nbconvert_exporter": "python",
   "pygments_lexer": "ipython3",
   "version": "3.9.7"
  },
  "orig_nbformat": 4
 },
 "nbformat": 4,
 "nbformat_minor": 2
}
