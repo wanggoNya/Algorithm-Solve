{
 "cells": [
  {
   "cell_type": "code",
   "execution_count": 7,
   "metadata": {},
   "outputs": [
    {
     "name": "stdout",
     "output_type": "stream",
     "text": [
      "==\n"
     ]
    }
   ],
   "source": [
    "# 1330\n",
    "ab = input()\n",
    "n = ab.split()\n",
    "n = list(map(int, n))\n",
    "a = n[0]\n",
    "b = n[1]\n",
    "if (a > b):print(\">\")\n",
    "if (a < b):print(\"<\")\n",
    "if (a == b):print(\"==\")"
   ]
  },
  {
   "cell_type": "code",
   "execution_count": 9,
   "metadata": {},
   "outputs": [
    {
     "name": "stdout",
     "output_type": "stream",
     "text": [
      "C\n"
     ]
    }
   ],
   "source": [
    "# 9498\n",
    "sc = int(input())\n",
    "if((sc >= 90) & ( sc <= 100)): print(\"A\")\n",
    "elif((sc >= 80) & ( sc <= 89)): print(\"B\")\n",
    "elif((sc >= 70) & ( sc <= 79)): print(\"C\")\n",
    "elif((sc >= 60) & ( sc <= 69)): print(\"D\")\n",
    "else: print(\"F\")"
   ]
  },
  {
   "cell_type": "code",
   "execution_count": 5,
   "metadata": {},
   "outputs": [
    {
     "name": "stdout",
     "output_type": "stream",
     "text": [
      "0\n"
     ]
    }
   ],
   "source": [
    "# 2753\n",
    "year = int(input())\n",
    "if (year % 4 == 0):\n",
    "    if(year % 100 > 0) or (year % 400 == 0):\n",
    "        print(1)\n",
    "    else:\n",
    "        print(0)\n",
    "else:\n",
    "    print(0)"
   ]
  },
  {
   "cell_type": "code",
   "execution_count": 7,
   "metadata": {},
   "outputs": [
    {
     "name": "stdout",
     "output_type": "stream",
     "text": [
      "4\n"
     ]
    }
   ],
   "source": [
    "# 14681\n",
    "x = int(input())\n",
    "y = int(input())\n",
    "if x > 0:\n",
    "    if  y > 0:\n",
    "       print(1)\n",
    "    elif y < 0:\n",
    "        print(4)\n",
    "elif x < 0:\n",
    "    if  y > 0:\n",
    "       print(2)\n",
    "    elif y < 0:\n",
    "        print(3)"
   ]
  },
  {
   "cell_type": "code",
   "execution_count": 12,
   "metadata": {},
   "outputs": [
    {
     "name": "stdout",
     "output_type": "stream",
     "text": [
      "22 55\n"
     ]
    }
   ],
   "source": [
    "# 2884\n",
    "time = input()\n",
    "hm = time.split()\n",
    "hm = list(map(int, hm))\n",
    "if hm[1] < 45:\n",
    "    hm[1] = hm[1] + 60\n",
    "    if hm[0] == 0:\n",
    "        hm[0] = 23\n",
    "    else:\n",
    "        hm[0] = hm[0]-1\n",
    "print(f'{hm[0]} {hm[1]-45}')"
   ]
  },
  {
   "cell_type": "code",
   "execution_count": 34,
   "metadata": {},
   "outputs": [
    {
     "name": "stdout",
     "output_type": "stream",
     "text": [
      "0 13\n"
     ]
    }
   ],
   "source": [
    "# 2525\n",
    "time = input()\n",
    "ai = int(input())\n",
    "hm = time.split()\n",
    "hm = list(map(int, hm))\n",
    "hm[1] = hm[1] + ai\n",
    "hm[0] = hm[0] + int(hm[1]/60)\n",
    "if hm[1] > 59:\n",
    "    hm[1] = hm[1] - (60 * int(hm[1]/60))\n",
    "if hm[0] > 23:\n",
    "    hm[0] = hm[0]-24\n",
    "print(f'{hm[0]} {hm[1]}')"
   ]
  },
  {
   "cell_type": "code",
   "execution_count": 45,
   "metadata": {},
   "outputs": [
    {
     "name": "stdout",
     "output_type": "stream",
     "text": [
      "600\n"
     ]
    }
   ],
   "source": [
    "# 2480\n",
    "luck = input()\n",
    "luck = luck.split()\n",
    "luck = list(map(int, luck))\n",
    "max = luck[0]\n",
    "if(luck[0] == luck[1] and luck[1] == luck[2]):\n",
    "    price = 10000 + luck[0] * 1000\n",
    "elif(luck[0] != luck[1] and luck[1] != luck[2] and luck[0] != luck[2]):\n",
    "    if luck[0] < luck[1]:\n",
    "        max = luck[1]\n",
    "        if luck[1] < luck[2]:\n",
    "            max = luck[2]\n",
    "    elif luck[0] < luck[2]:\n",
    "        max = luck[2]\n",
    "    price = max * 100\n",
    "else:\n",
    "    if luck[0] == luck[1]:\n",
    "        price = 1000 + luck[0] * 100\n",
    "    elif luck[1] == luck[2]:\n",
    "        price = 1000 + luck[1] * 100\n",
    "    elif luck[0] == luck[2]:\n",
    "        price = 1000 + luck[0] * 100\n",
    "print(price)"
   ]
  }
 ],
 "metadata": {
  "interpreter": {
   "hash": "513dc2e41d739bb2c947903f3c0bbf636d03aa53ab50e61c694a27481c81805e"
  },
  "kernelspec": {
   "display_name": "Python 3.9.7 ('base')",
   "language": "python",
   "name": "python3"
  },
  "language_info": {
   "codemirror_mode": {
    "name": "ipython",
    "version": 3
   },
   "file_extension": ".py",
   "mimetype": "text/x-python",
   "name": "python",
   "nbconvert_exporter": "python",
   "pygments_lexer": "ipython3",
   "version": "3.9.7"
  },
  "orig_nbformat": 4
 },
 "nbformat": 4,
 "nbformat_minor": 2
}
